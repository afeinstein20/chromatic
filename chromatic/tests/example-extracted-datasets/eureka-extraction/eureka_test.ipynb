{
 "cells": [
  {
   "cell_type": "code",
   "execution_count": 37,
   "metadata": {},
   "outputs": [],
   "source": [
    "#from ...imports import *\n",
    "#import h5py as h5\n",
    "from astropy.io import ascii\n",
    "import os\n",
    "import numpy as np\n",
    "import matplotlib.pyplot as plt"
   ]
  },
  {
   "cell_type": "code",
   "execution_count": 5,
   "metadata": {},
   "outputs": [],
   "source": [
    "data = ascii.read('S3_wasp43b_Table_Save.txt')"
   ]
  },
  {
   "cell_type": "code",
   "execution_count": 6,
   "metadata": {},
   "outputs": [
    {
     "data": {
      "text/html": [
       "<i>Table length=2059200</i>\n",
       "<table id=\"table140271572711504\" class=\"table-striped table-bordered table-condensed\">\n",
       "<thead><tr><th>bjdtdb</th><th>wave_1d</th><th>stdspec</th><th>stdvar</th><th>optspec</th><th>opterr</th></tr></thead>\n",
       "<thead><tr><th>float64</th><th>float32</th><th>float32</th><th>float32</th><th>float64</th><th>float64</th></tr></thead>\n",
       "<tr><td>59694.10254856695</td><td>2.450076</td><td>75311.01</td><td>14737979.0</td><td>75445.27319712478</td><td>277.84219424659517</td></tr>\n",
       "<tr><td>59694.10254856695</td><td>2.45108</td><td>75193.31</td><td>14872316.0</td><td>75642.94328019823</td><td>278.2294481490999</td></tr>\n",
       "<tr><td>59694.10254856695</td><td>2.452084</td><td>75675.21</td><td>14791216.0</td><td>75807.95645015159</td><td>278.56456210914644</td></tr>\n",
       "<tr><td>59694.10254856695</td><td>2.453088</td><td>74924.484</td><td>14627881.0</td><td>74987.38842237392</td><td>277.16846024062295</td></tr>\n",
       "<tr><td>59694.10254856695</td><td>2.454092</td><td>75941.26</td><td>15002400.0</td><td>76052.95525233702</td><td>279.05551291327396</td></tr>\n",
       "<tr><td>59694.10254856695</td><td>2.455096</td><td>76547.03</td><td>14978297.0</td><td>76562.47322672996</td><td>279.97806373813364</td></tr>\n",
       "<tr><td>59694.10254856695</td><td>2.4561</td><td>76012.17</td><td>14702109.0</td><td>76120.87816220928</td><td>279.1760961459533</td></tr>\n",
       "<tr><td>59694.10254856695</td><td>2.457104</td><td>77733.695</td><td>15362372.0</td><td>77733.29921180973</td><td>282.13588416756687</td></tr>\n",
       "<tr><td>59694.10254856695</td><td>2.458108</td><td>77671.15</td><td>1367853600.0</td><td>77759.5777437147</td><td>282.0812264308345</td></tr>\n",
       "<tr><td>59694.10254856695</td><td>2.459112</td><td>78752.25</td><td>16044570.0</td><td>78753.96230712859</td><td>283.9074776987136</td></tr>\n",
       "<tr><td>...</td><td>...</td><td>...</td><td>...</td><td>...</td><td>...</td></tr>\n",
       "<tr><td>59694.203943117886</td><td>4.046436</td><td>11007.6875</td><td>10673330000.0</td><td>11460.728914927053</td><td>110.08642636364715</td></tr>\n",
       "<tr><td>59694.203943117886</td><td>4.04744</td><td>10369.985</td><td>4574209000.0</td><td>10589.985763729963</td><td>106.20693892085194</td></tr>\n",
       "<tr><td>59694.203943117886</td><td>4.048444</td><td>9799.539</td><td>6099577300.0</td><td>10293.449906270394</td><td>104.33958084161657</td></tr>\n",
       "<tr><td>59694.203943117886</td><td>4.049448</td><td>9437.717</td><td>322968.4</td><td>9944.035088584744</td><td>102.75218756298273</td></tr>\n",
       "<tr><td>59694.203943117886</td><td>4.050452</td><td>9427.388</td><td>7624186000.0</td><td>9952.85903696819</td><td>102.83681705657415</td></tr>\n",
       "<tr><td>59694.203943117886</td><td>4.051456</td><td>8895.076</td><td>12197630000.0</td><td>9466.172185198977</td><td>100.39557699328903</td></tr>\n",
       "<tr><td>59694.203943117886</td><td>4.05246</td><td>8626.207</td><td>10673635000.0</td><td>9254.195573784</td><td>98.94641269291698</td></tr>\n",
       "<tr><td>59694.203943117886</td><td>4.053464</td><td>8118.878</td><td>9149187000.0</td><td>8763.799889106529</td><td>96.46505895225077</td></tr>\n",
       "<tr><td>59694.203943117886</td><td>4.054468</td><td>7894.206</td><td>4574605000.0</td><td>8553.541207390566</td><td>95.35007387683275</td></tr>\n",
       "<tr><td>59694.203943117886</td><td>4.055472</td><td>7007.5117</td><td>12198034000.0</td><td>7688.223393331015</td><td>90.54149844732585</td></tr>\n",
       "</table>"
      ],
      "text/plain": [
       "<Table length=2059200>\n",
       "      bjdtdb       wave_1d   stdspec   ...      optspec             opterr      \n",
       "     float64       float32   float32   ...      float64            float64      \n",
       "------------------ -------- ---------- ... ------------------ ------------------\n",
       " 59694.10254856695 2.450076   75311.01 ...  75445.27319712478 277.84219424659517\n",
       " 59694.10254856695  2.45108   75193.31 ...  75642.94328019823  278.2294481490999\n",
       " 59694.10254856695 2.452084   75675.21 ...  75807.95645015159 278.56456210914644\n",
       " 59694.10254856695 2.453088  74924.484 ...  74987.38842237392 277.16846024062295\n",
       " 59694.10254856695 2.454092   75941.26 ...  76052.95525233702 279.05551291327396\n",
       " 59694.10254856695 2.455096   76547.03 ...  76562.47322672996 279.97806373813364\n",
       " 59694.10254856695   2.4561   76012.17 ...  76120.87816220928  279.1760961459533\n",
       " 59694.10254856695 2.457104  77733.695 ...  77733.29921180973 282.13588416756687\n",
       " 59694.10254856695 2.458108   77671.15 ...   77759.5777437147  282.0812264308345\n",
       " 59694.10254856695 2.459112   78752.25 ...  78753.96230712859  283.9074776987136\n",
       "               ...      ...        ... ...                ...                ...\n",
       "59694.203943117886 4.046436 11007.6875 ... 11460.728914927053 110.08642636364715\n",
       "59694.203943117886  4.04744  10369.985 ... 10589.985763729963 106.20693892085194\n",
       "59694.203943117886 4.048444   9799.539 ... 10293.449906270394 104.33958084161657\n",
       "59694.203943117886 4.049448   9437.717 ...  9944.035088584744 102.75218756298273\n",
       "59694.203943117886 4.050452   9427.388 ...   9952.85903696819 102.83681705657415\n",
       "59694.203943117886 4.051456   8895.076 ...  9466.172185198977 100.39557699328903\n",
       "59694.203943117886  4.05246   8626.207 ...     9254.195573784  98.94641269291698\n",
       "59694.203943117886 4.053464   8118.878 ...  8763.799889106529  96.46505895225077\n",
       "59694.203943117886 4.054468   7894.206 ...  8553.541207390566  95.35007387683275\n",
       "59694.203943117886 4.055472  7007.5117 ...  7688.223393331015  90.54149844732585"
      ]
     },
     "execution_count": 6,
     "metadata": {},
     "output_type": "execute_result"
    }
   ],
   "source": [
    "data"
   ]
  },
  {
   "cell_type": "code",
   "execution_count": 32,
   "metadata": {},
   "outputs": [],
   "source": [
    "time = np.unique(data['bjdtdb'])\n",
    "wave_1d = np.unique(data['wave_1d'])"
   ]
  },
  {
   "cell_type": "code",
   "execution_count": 39,
   "metadata": {},
   "outputs": [],
   "source": [
    "fluxes = np.ones(shape=(len(wave_1d),len(time)))\n",
    "uncertainties = np.ones_like(fluxes)"
   ]
  },
  {
   "cell_type": "code",
   "execution_count": 49,
   "metadata": {},
   "outputs": [],
   "source": [
    "i_time = np.arange(len(time))\n",
    "\n",
    "for i in range(len(wave_1d)):\n",
    "    \n",
    "    indices_for_this_wavelength = i_wavelength + i_time*len(wave_1d)\n",
    "    fluxes[i_wavelength,i_time] = data['optspec'][indices_for_this_wavelength]\n",
    "    uncertainties[i_wavelength,i_time] = data['opterr'][indices_for_this_wavelength]"
   ]
  },
  {
   "cell_type": "code",
   "execution_count": 51,
   "metadata": {},
   "outputs": [],
   "source": [
    "#plt.imshow(fluxes)"
   ]
  },
  {
   "cell_type": "code",
   "execution_count": 44,
   "metadata": {},
   "outputs": [],
   "source": [
    "for i in range(len(wave_1d)):\n",
    "    for j in range(len(time)):\n",
    "        \n",
    "        index = i + j*(len(wave_1d))\n",
    "        \n",
    "        fluxes[i,j] = data['optspec'][index]\n",
    "        uncertainties[i,j] = data['opterr'][index]"
   ]
  },
  {
   "cell_type": "code",
   "execution_count": 52,
   "metadata": {},
   "outputs": [],
   "source": [
    "#plt.imshow(fluxes)"
   ]
  },
  {
   "cell_type": "code",
   "execution_count": 27,
   "metadata": {},
   "outputs": [],
   "source": [
    "indices = []\n",
    "\n",
    "j = 0\n",
    "for i in range(len(data['bjdtdb'])):\n",
    "    \n",
    "    if i == 0:\n",
    "        times.append(data['bjdtdb'][0])\n",
    "        indices.append(i)\n",
    "        i += 1\n",
    "        \n",
    "    if data['bjdtdb'][i] > data['bjdtdb'][i-1]:\n",
    "        j += 1 #this tracks how long the time array is, for use reorganizing the array\n",
    "        indices.append(i)\n",
    "        times.append(data['bjdtdb'][i])\n",
    "        \n",
    "       # if \n",
    "       # fluxes.append(data['optspec'][indices[j-1]:indices[j+1]])\n",
    "       # waves.append(data['wave_1d'][indices[j-1]:indices[j+1]])\n",
    "       # uncertainties.append(data['opterr'][indices[j-1]:indices[j+1]])\n",
    "        \n"
   ]
  },
  {
   "cell_type": "code",
   "execution_count": 26,
   "metadata": {},
   "outputs": [
    {
     "data": {
      "text/plain": [
       "1287"
      ]
     },
     "execution_count": 26,
     "metadata": {},
     "output_type": "execute_result"
    }
   ],
   "source": [
    "len(indices)"
   ]
  }
 ],
 "metadata": {
  "kernelspec": {
   "display_name": "Python 3",
   "language": "python",
   "name": "python3"
  },
  "language_info": {
   "codemirror_mode": {
    "name": "ipython",
    "version": 3
   },
   "file_extension": ".py",
   "mimetype": "text/x-python",
   "name": "python",
   "nbconvert_exporter": "python",
   "pygments_lexer": "ipython3",
   "version": "3.7.4"
  }
 },
 "nbformat": 4,
 "nbformat_minor": 4
}
