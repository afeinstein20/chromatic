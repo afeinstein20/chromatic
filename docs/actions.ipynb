{
 "cells": [
  {
   "cell_type": "markdown",
   "metadata": {},
   "source": [
    "# 🌈 Actions"
   ]
  },
  {
   "cell_type": "markdown",
   "metadata": {},
   "source": [
    "There are number of methods or actions that any `Rainbow` object can do. By learning the vocabulary of just a few of these methods, you can build up some fairly complicated stories for working with data. In general, most of these actions return a `Rainbow` object that has been modified in one way or another, so you can keep adding actions after actions after actions. To show how these work, we'll create a simulated rainbow object and try a few:"
   ]
  },
  {
   "cell_type": "code",
   "execution_count": null,
   "metadata": {},
   "outputs": [],
   "source": [
    "from chromatic import *"
   ]
  },
  {
   "cell_type": "code",
   "execution_count": null,
   "metadata": {},
   "outputs": [],
   "source": [
    "r = SimulatedRainbow(R=100, dt=1*u.minute)"
   ]
  },
  {
   "cell_type": "markdown",
   "metadata": {},
   "source": [
    "## `🌈.bin()`\n",
    "While we should generally try to avoid fitting to binned data when possible, there will often be times where it's helpful to bin to particular grid of wavelengths and/or times. You can do this using the `.bin()` function. We'll create a simulated rainbow object and use it to show how this works."
   ]
  },
  {
   "cell_type": "code",
   "execution_count": null,
   "metadata": {},
   "outputs": [],
   "source": [
    "def summarize(x):\n",
    "    print(f\"\"\"\n",
    "    {x} is a {type(x).__name__}.\n",
    "    It has a {x.nwave} wavelengths and {x.ntime} times. \n",
    "\n",
    "    Its 5 first wavelengths:{np.round(x.wavelength[:5], 2)}\n",
    "    Its 5 first times:{np.round(x.time[:5], 2)}\n",
    "    \"\"\")"
   ]
  },
  {
   "cell_type": "code",
   "execution_count": null,
   "metadata": {},
   "outputs": [],
   "source": [
    "summarize(r)"
   ]
  },
  {
   "cell_type": "markdown",
   "metadata": {},
   "source": [
    "To bin in **wavelength**, it can take the following inputs:\n",
    "- `dw=` to bin in wavelength to a particular $d\\lambda$ width. This will create a linear grid in wavelength.\n",
    "- `R=` to bin in wavelength to particular $R = \\lambda/d\\lambda$. This will create a logarithmic grid in wavelength.\n",
    "- `wavelength=` to bin to any custom wavelength grid. *(Right now, this tries to make a good guess for the edges of the bins based on their centers; we should probably implement a more straightfoward way to insert and track specifc left and right bin edges.)*"
   ]
  },
  {
   "cell_type": "code",
   "execution_count": null,
   "metadata": {},
   "outputs": [],
   "source": [
    "b = r.bin(dw=0.5*u.micron)\n",
    "summarize(b)"
   ]
  },
  {
   "cell_type": "code",
   "execution_count": null,
   "metadata": {},
   "outputs": [],
   "source": [
    "b = r.bin(R=10)\n",
    "summarize(b)"
   ]
  },
  {
   "cell_type": "code",
   "execution_count": null,
   "metadata": {},
   "outputs": [],
   "source": [
    "b = r.bin(wavelength=np.linspace(1, 2, 4)*u.micron)\n",
    "summarize(b)"
   ]
  },
  {
   "cell_type": "markdown",
   "metadata": {},
   "source": [
    "To bin in **time**, it can take the following inputs:\n",
    "- `dt=` to bin in time to a particular $dt$ width. This will create a linear grid in time.\n",
    "- `time=` to bin to any custom time grid. *(Right now, this tries to make a good guess for the edges of the bins based on their centers; we should probably implement a more straightfoward way to insert and track specifc left and right bin edges.)*"
   ]
  },
  {
   "cell_type": "code",
   "execution_count": null,
   "metadata": {},
   "outputs": [],
   "source": [
    "b = r.bin(dt=0.25*u.hour)\n",
    "summarize(b)"
   ]
  },
  {
   "cell_type": "code",
   "execution_count": null,
   "metadata": {},
   "outputs": [],
   "source": [
    "b = r.bin(time=np.linspace(-1, 1, 5)*u.hour)\n",
    "summarize(b)"
   ]
  },
  {
   "cell_type": "markdown",
   "metadata": {},
   "source": [
    "And of course, you can combine to bin in both wavelength and time in the same step."
   ]
  },
  {
   "cell_type": "code",
   "execution_count": null,
   "metadata": {},
   "outputs": [],
   "source": [
    "b = r.bin(dw=100*u.nm, dt=10*u.minute)\n",
    "summarize(b)"
   ]
  },
  {
   "cell_type": "code",
   "execution_count": null,
   "metadata": {},
   "outputs": [],
   "source": [
    "fi, ax = plt.subplots(2, 1, sharex=True, figsize=(6,6))\n",
    "r.imshow(ax=ax[0], vmin=.98, vmax=1.02)\n",
    "plt.title('Unbinned'); plt.xlabel('')\n",
    "b.imshow(ax=ax[1], vmin=.98, vmax=1.02)\n",
    "plt.title('Binned');"
   ]
  },
  {
   "cell_type": "markdown",
   "metadata": {},
   "source": [
    "## `🌈.normalize()`"
   ]
  },
  {
   "cell_type": "markdown",
   "metadata": {},
   "source": [
    "## `🌈.inject_transit()`"
   ]
  },
  {
   "cell_type": "markdown",
   "metadata": {},
   "source": [
    "## `🌈 + 🌈`"
   ]
  }
 ],
 "metadata": {
  "kernelspec": {
   "display_name": "Python 3 (ipykernel)",
   "language": "python",
   "name": "python3"
  },
  "language_info": {
   "codemirror_mode": {
    "name": "ipython",
    "version": 3
   },
   "file_extension": ".py",
   "mimetype": "text/x-python",
   "name": "python",
   "nbconvert_exporter": "python",
   "pygments_lexer": "ipython3",
   "version": "3.9.5"
  }
 },
 "nbformat": 4,
 "nbformat_minor": 4
}
