{
 "cells": [
  {
   "cell_type": "markdown",
   "id": "91653bb3",
   "metadata": {},
   "source": [
    "# 🌈 Quickstart\n",
    "\n",
    "Want to get started right away? You've come to the right place! This page quickly shows how to create a simulated time-series spectroscopic object, do some calculations with it, and then visualize it in a few different ways."
   ]
  },
  {
   "cell_type": "code",
   "execution_count": null,
   "id": "7745c111",
   "metadata": {},
   "outputs": [],
   "source": [
    "from chromatic import u, np, plt, SimulatedRainbow, read_rainbow, version\n",
    "\n",
    "version()"
   ]
  },
  {
   "cell_type": "markdown",
   "id": "d5123ccc",
   "metadata": {},
   "source": [
    "### Making Simulated Data"
   ]
  },
  {
   "cell_type": "markdown",
   "id": "0854b09f",
   "metadata": {},
   "source": [
    "Let's create a `Rainbow` (=🌈) object to contain a blank simulated light curve with a particular cadence `dt` and spectrosopic resolution `R`. Then, let's plot a 2D map of its flux, with the colors at each pixel representing the brightness at a particular time + wavelength."
   ]
  },
  {
   "cell_type": "code",
   "execution_count": null,
   "id": "1b001e63",
   "metadata": {},
   "outputs": [],
   "source": [
    "rainbow = SimulatedRainbow(dt=1 * u.minute, R=50)\n",
    "rainbow.imshow();"
   ]
  },
  {
   "cell_type": "markdown",
   "id": "ac2292bf",
   "metadata": {},
   "source": [
    "🌈 objects have attributes that provide quick access to key variables, like the wavelengths, times, and fluxes of this two-dimensional dataset. "
   ]
  },
  {
   "cell_type": "code",
   "execution_count": null,
   "id": "f29fcabb",
   "metadata": {},
   "outputs": [],
   "source": [
    "rainbow.wavelength"
   ]
  },
  {
   "cell_type": "code",
   "execution_count": null,
   "id": "618a077c",
   "metadata": {},
   "outputs": [],
   "source": [
    "rainbow.time"
   ]
  },
  {
   "cell_type": "code",
   "execution_count": null,
   "id": "eae8b24b",
   "metadata": {},
   "outputs": [],
   "source": [
    "rainbow.flux"
   ]
  },
  {
   "cell_type": "markdown",
   "id": "9eefcc12",
   "metadata": {},
   "source": [
    "Let's inject a fake transit into our previously empty 🌈."
   ]
  },
  {
   "cell_type": "code",
   "execution_count": null,
   "id": "6fb68d17",
   "metadata": {},
   "outputs": [],
   "source": [
    "with_transit = rainbow.inject_transit(\n",
    "    planet_radius=np.linspace(0.2, 0.1, rainbow.nwave)\n",
    ")\n",
    "with_transit.imshow();"
   ]
  },
  {
   "cell_type": "markdown",
   "id": "608da64b",
   "metadata": {},
   "source": [
    "Let's inject some fake instrumental systematic noise sources into our transit-containing 🌈."
   ]
  },
  {
   "cell_type": "code",
   "execution_count": null,
   "id": "6f49aa1d",
   "metadata": {},
   "outputs": [],
   "source": [
    "with_systematics = with_transit.inject_systematics(amplitude=0.003)\n",
    "with_systematics.imshow();"
   ]
  },
  {
   "cell_type": "markdown",
   "id": "a0de0cde",
   "metadata": {},
   "source": [
    "Let's inject some uncorrelated photon noise into it into our systematics-laden, transit-containing 🌈."
   ]
  },
  {
   "cell_type": "code",
   "execution_count": null,
   "id": "ae54dc31",
   "metadata": {},
   "outputs": [],
   "source": [
    "with_photon_noise = with_systematics.inject_noise(signal_to_noise=100)\n",
    "with_photon_noise.imshow();"
   ]
  },
  {
   "cell_type": "markdown",
   "id": "4af11191",
   "metadata": {},
   "source": [
    "Let's bin our complicated high-resolution and high-cadence 🌈 in both wavelength (`dw`) and time (`dt`). "
   ]
  },
  {
   "cell_type": "code",
   "execution_count": null,
   "id": "b20d07f4",
   "metadata": {},
   "outputs": [],
   "source": [
    "binned = with_photon_noise.bin(dw=0.5 * u.micron, dt=20 * u.minute)\n",
    "binned.imshow();"
   ]
  },
  {
   "cell_type": "markdown",
   "id": "07e7252c",
   "metadata": {},
   "source": [
    "### Saving and Reading Data"
   ]
  },
  {
   "cell_type": "markdown",
   "id": "3397f935",
   "metadata": {},
   "source": [
    "Let's save the binned, noisy, systematics-laden, transit-containing simulated 🌈 out to a file."
   ]
  },
  {
   "cell_type": "code",
   "execution_count": null,
   "id": "6e671293",
   "metadata": {},
   "outputs": [],
   "source": [
    "binned.save(\"test.rainbow.npy\")"
   ]
  },
  {
   "cell_type": "markdown",
   "id": "098af514",
   "metadata": {},
   "source": [
    "Let's load that back in as a new 🌈."
   ]
  },
  {
   "cell_type": "code",
   "execution_count": null,
   "id": "21f9b3fd",
   "metadata": {},
   "outputs": [],
   "source": [
    "saved_and_loaded = read_rainbow(\"test.rainbow.npy\")"
   ]
  },
  {
   "cell_type": "markdown",
   "id": "0cd58409",
   "metadata": {},
   "source": [
    "Let's confirm the two 🌈 objects are effectively equal."
   ]
  },
  {
   "cell_type": "code",
   "execution_count": null,
   "id": "8902fb5c",
   "metadata": {},
   "outputs": [],
   "source": [
    "binned == saved_and_loaded"
   ]
  },
  {
   "cell_type": "markdown",
   "id": "89d2f95c",
   "metadata": {},
   "source": [
    "### Visualizing Data\n",
    "We've already seen `.imshow` as a quick way to visualize flux as a function of wavelength and time, but we can als plot a stacked series of light curves..."
   ]
  },
  {
   "cell_type": "code",
   "execution_count": null,
   "id": "04d15c26",
   "metadata": {},
   "outputs": [],
   "source": [
    "binned.plot()"
   ]
  },
  {
   "cell_type": "markdown",
   "id": "4d0c2ad1",
   "metadata": {},
   "source": [
    "...or animate by flipping through wavelengths or times..."
   ]
  },
  {
   "cell_type": "code",
   "execution_count": null,
   "id": "fa732c3f",
   "metadata": {
    "scrolled": false
   },
   "outputs": [],
   "source": [
    "binned.animate_lightcurves()"
   ]
  },
  {
   "cell_type": "code",
   "execution_count": null,
   "id": "2894ae0f",
   "metadata": {},
   "outputs": [],
   "source": [
    "binned.animate_spectra()"
   ]
  },
  {
   "cell_type": "markdown",
   "id": "34cef42d",
   "metadata": {},
   "source": [
    "If there is a light curve model attached to the 🌈 (which there is on our simulation), we can visualize data/model comparison in a few ways."
   ]
  },
  {
   "cell_type": "code",
   "execution_count": null,
   "id": "b58f61ed",
   "metadata": {},
   "outputs": [],
   "source": [
    "binned.imshow_with_models()"
   ]
  },
  {
   "cell_type": "code",
   "execution_count": null,
   "id": "b30ed352",
   "metadata": {},
   "outputs": [],
   "source": [
    "binned.plot_with_model_and_residuals()"
   ]
  },
  {
   "cell_type": "code",
   "execution_count": null,
   "id": "fab90376",
   "metadata": {},
   "outputs": [],
   "source": [
    "(binned / binned.systematics_model).plot_with_model_and_residuals()"
   ]
  },
  {
   "cell_type": "code",
   "execution_count": null,
   "id": "5a353167",
   "metadata": {},
   "outputs": [],
   "source": [
    "binned.animate_with_models()"
   ]
  },
  {
   "cell_type": "markdown",
   "id": "513920ac",
   "metadata": {},
   "source": [
    "### Linking Actions Together"
   ]
  },
  {
   "cell_type": "markdown",
   "id": "8e3f0949",
   "metadata": {},
   "source": [
    "Because many of the 🌈 methods used above return 🌈 objects, we can link actions together into one (probably overly complicated) single command."
   ]
  },
  {
   "cell_type": "code",
   "execution_count": null,
   "id": "2cc08180",
   "metadata": {},
   "outputs": [],
   "source": [
    "(\n",
    "    SimulatedRainbow(dt=1 * u.minute, R=50)\n",
    "    .inject_transit(planet_radius=0.1)\n",
    "    .inject_systematics()\n",
    "    .inject_noise()\n",
    "    .bin(dw=0.5 * u.micron, dt=20 * u.minute)\n",
    "    .imshow()\n",
    ");"
   ]
  },
  {
   "cell_type": "markdown",
   "id": "d55dec0c",
   "metadata": {},
   "source": [
    "### Getting Help"
   ]
  },
  {
   "cell_type": "markdown",
   "id": "23aa7da8",
   "metadata": {},
   "source": [
    "You can see what options are available for any particular 🌈 object by running its `.help()` method. If you can't find what you need there, in this documentation, or in the docstrings for individual functions, please [submit an Issue](github#Should-I-submit-an-Issue-to-the-chromatic-GitHub-repository?) to discuss your question with the `chromatic` team!"
   ]
  },
  {
   "cell_type": "code",
   "execution_count": null,
   "id": "abc9595d",
   "metadata": {
    "scrolled": true
   },
   "outputs": [],
   "source": [
    "binned.help()"
   ]
  },
  {
   "cell_type": "markdown",
   "id": "e87934d0",
   "metadata": {},
   "source": [
    "### Have Fun! \n",
    "Here you have seen some of the basic functionality of what `chromatic` can do on a simulated dataset. Hopefully, you're now eager to read through the [User Guide](basics) to learn more about reading a 🌈 from a real data file, doing actions on/with a 🌈, visualizing a 🌈 in different ways, and more!  "
   ]
  }
 ],
 "metadata": {
  "kernelspec": {
   "display_name": "Python 3",
   "language": "python",
   "name": "python3"
  },
  "language_info": {
   "codemirror_mode": {
    "name": "ipython",
    "version": 3
   },
   "file_extension": ".py",
   "mimetype": "text/x-python",
   "name": "python",
   "nbconvert_exporter": "python",
   "pygments_lexer": "ipython3",
   "version": "3.9.12"
  }
 },
 "nbformat": 4,
 "nbformat_minor": 5
}
