{
 "cells": [
  {
   "cell_type": "markdown",
   "id": "dbe88076",
   "metadata": {},
   "source": [
    "# Reading/Writing a 🌈\n",
    "\n"
   ]
  },
  {
   "cell_type": "code",
   "execution_count": null,
   "id": "84525812",
   "metadata": {},
   "outputs": [],
   "source": [
    "from chromatic import *"
   ]
  },
  {
   "cell_type": "markdown",
   "id": "e591aced",
   "metadata": {},
   "source": [
    "## Reading Files\n",
    "\n",
    "One key goal of `chromatic` is to make it easy to load spectroscopic light curves from a variety of different file formats, so that the outputs from multiple different pipelines can be standardized into objects that can be direcly compared to one another. We hope to provide an straightforward way to check one analysis vs another as quickly as possible."
   ]
  },
  {
   "cell_type": "markdown",
   "id": "7b2a5979",
   "metadata": {},
   "source": [
    "### Download Example Inputs\n",
    "\n",
    "If you want to test out any of these readers, you'll need data files in each format to test on. You can download some example datasets from [this link](???)` directory in the same place from which you're running this notebook. "
   ]
  },
  {
   "cell_type": "markdown",
   "id": "1cb5027d",
   "metadata": {},
   "source": [
    "### `chromatic` rainbow files (`*.rainbow.npy`)\n",
    "\n",
    "The `chromatic` toolkit saves files in its own default format, which can then be shared and loaded back in. These files directly encode the core dictionaries in binary files, so they load and save quickly. They have the extension `.rainbow.npy`. These files can be written (see below) from any `Rainbow` object. "
   ]
  },
  {
   "cell_type": "code",
   "execution_count": null,
   "id": "cf6f885f",
   "metadata": {},
   "outputs": [],
   "source": [
    "# rainbow = Rainbow('example-datasets/chromatic/simulated.rainbow.py')"
   ]
  },
  {
   "cell_type": "markdown",
   "id": "dab7ffcf",
   "metadata": {},
   "source": [
    "### STScI `jwst` pipeline outputs (`x1dints.fits`)\n",
    "\n",
    "The `jwst` pipeline developed at the Space Telescope Science Institute will produce extract 1D stellar spectra for time-series observations with the James Webb Space Telescope. Details about the pipeline itself are available [here](https://jwst-pipeline.readthedocs.io/en/latest/). \n",
    "\n",
    "These files typically end with the `_x1dints.fits` suffix. Each file contains a number of individual \"integrations\" (= time points). Because the datasets can get large, sometimes a particular observation might be split into multipe segments, each with its own file. As such, the reader for these files is designed to handle either a single file or a path with a `*` in it that points to a group of files from an observation that's been split into segments."
   ]
  },
  {
   "cell_type": "code",
   "execution_count": null,
   "id": "5a2074d8",
   "metadata": {},
   "outputs": [],
   "source": [
    "#stsci = Rainbow('example-datasets/stsci/*_x1dints.fits')"
   ]
  },
  {
   "cell_type": "markdown",
   "id": "fc82f7ee",
   "metadata": {},
   "source": [
    "The `Rainbow` reader will try to guess the format of the file from the filepath. If that doesn't work for some reason, in this case you could explictly feed in the keyword `format='x1dints'` after the filepath, to force it to use the `from_x1dints` reader needed for these files."
   ]
  },
  {
   "cell_type": "markdown",
   "id": "7937a802",
   "metadata": {},
   "source": [
    "### `eureka` pipeline outputs (`S3_*_Table_Save.txt`)\n",
    "\n",
    "The `eureka` pipeline is one of many community tools being designed to extract spectra from JWST data. Details about the pipeline itself are available [here](https://github.com/kevin218/Eureka). \n",
    "\n",
    "These files typically have names that look something like `S3_*_Table_Save.txt`, and they contain fluxes as a function of wavelength and time, stored as an astropy `ecsv` table."
   ]
  },
  {
   "cell_type": "code",
   "execution_count": null,
   "id": "cd781dc4",
   "metadata": {},
   "outputs": [],
   "source": [
    "#eureka = Rainbow('example-datasets/eureka/S3_wasp43b_Table_Save.txt')"
   ]
  },
  {
   "cell_type": "markdown",
   "id": "f6474155",
   "metadata": {},
   "source": [
    "Again, you can force the reader to use this format by including a `format='eureka'` keyword."
   ]
  },
  {
   "cell_type": "markdown",
   "id": "cc92fee3",
   "metadata": {},
   "source": [
    "## Writing Files"
   ]
  },
  {
   "cell_type": "markdown",
   "id": "a52df8b8",
   "metadata": {},
   "source": [
    "### `chromatic` rainbow files (`*.rainbow.npy`)\n",
    "\n",
    "The default file format for saving files encodes the core dictionaries in binary files, using the extension `.rainbow.npy`. "
   ]
  },
  {
   "cell_type": "code",
   "execution_count": null,
   "id": "c330b254",
   "metadata": {},
   "outputs": [],
   "source": [
    "#simulated = SimulatedRainbow().inject_transit()\n",
    "#simulated.write('example-datasets/chromatic/simulated.rainbow.py')"
   ]
  }
 ],
 "metadata": {
  "kernelspec": {
   "display_name": "Python 3 (ipykernel)",
   "language": "python",
   "name": "python3"
  },
  "language_info": {
   "codemirror_mode": {
    "name": "ipython",
    "version": 3
   },
   "file_extension": ".py",
   "mimetype": "text/x-python",
   "name": "python",
   "nbconvert_exporter": "python",
   "pygments_lexer": "ipython3",
   "version": "3.9.5"
  }
 },
 "nbformat": 4,
 "nbformat_minor": 5
}
