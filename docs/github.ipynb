{
 "cells": [
  {
   "cell_type": "markdown",
   "id": "1c9b17bb",
   "metadata": {},
   "source": [
    "# Contributing 🌈 Code with `github`\n",
    "\n",
    "There are oodles of great tutorials on various aspects of contributing to collaborative code projects with `github`. This page is meant to provide a quick, recipe-like answer to the question \"how do I contribute some code to the `chromatic` package?\""
   ]
  },
  {
   "cell_type": "markdown",
   "id": "f91bc20b",
   "metadata": {},
   "source": [
    "(coming soon...)"
   ]
  }
 ],
 "metadata": {
  "kernelspec": {
   "display_name": "Python 3",
   "language": "python",
   "name": "python3"
  },
  "language_info": {
   "codemirror_mode": {
    "name": "ipython",
    "version": 3
   },
   "file_extension": ".py",
   "mimetype": "text/x-python",
   "name": "python",
   "nbconvert_exporter": "python",
   "pygments_lexer": "ipython3",
   "version": "3.9.12"
  }
 },
 "nbformat": 4,
 "nbformat_minor": 5
}
