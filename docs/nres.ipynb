{
 "cells": [
  {
   "cell_type": "markdown",
   "id": "e77e249a-2278-4b0f-bb00-0248b49dcf14",
   "metadata": {},
   "source": [
    "It'd be good to have an example documented somewhere of how to load in and work with one order from NRES echelle spectra.\n",
    "\n",
    "This example should at least:\n",
    "\n",
    "- Show how to read one order from a directory of NRES extracted spectrum files.\n",
    "- Make some nice plots with them.\n",
    "- Show how to access important quantities like the wavelength, time, flux, uncertainty, and ok values.\n",
    "- Maybe eventually show how to fit a model to them!\n",
    "\n",
    "To make it user friendly, we could include a download script that would grab a particular group of files directly from the public LCO archive."
   ]
  },
  {
   "cell_type": "markdown",
   "id": "3baad5e9-c5f5-4f66-bdaa-e6583ad17336",
   "metadata": {},
   "source": [
    "Final version uploads without the outputs!"
   ]
  },
  {
   "cell_type": "code",
   "execution_count": 3,
   "id": "511531ee-d6fe-4b96-9c11-6f3df1f043d4",
   "metadata": {},
   "outputs": [],
   "source": [
    "from chromatic import *"
   ]
  },
  {
   "cell_type": "code",
   "execution_count": 4,
   "id": "c5e617dd-1ef6-40e8-bc49-e6e6c405eb1f",
   "metadata": {},
   "outputs": [
    {
     "name": "stderr",
     "output_type": "stream",
     "text": [
      "0it [00:00, ?it/s]\n"
     ]
    },
    {
     "ename": "KeyError",
     "evalue": "'wavelength'",
     "output_type": "error",
     "traceback": [
      "\u001b[0;31m---------------------------------------------------------------------------\u001b[0m",
      "\u001b[0;31mKeyError\u001b[0m                                  Traceback (most recent call last)",
      "\u001b[0;32m<ipython-input-4-7ca4426dcfd7>\u001b[0m in \u001b[0;36m<module>\u001b[0;34m\u001b[0m\n\u001b[0;32m----> 1\u001b[0;31m \u001b[0mr\u001b[0m \u001b[0;34m=\u001b[0m \u001b[0mRainbow\u001b[0m\u001b[0;34m(\u001b[0m\u001b[0;34m'data/NRES/Spring_2022_Spectra/*e92-1d.fits.fz'\u001b[0m\u001b[0;34m,\u001b[0m \u001b[0mformat\u001b[0m\u001b[0;34m=\u001b[0m\u001b[0;34m'nres'\u001b[0m\u001b[0;34m,\u001b[0m \u001b[0morder\u001b[0m\u001b[0;34m=\u001b[0m\u001b[0;36m71\u001b[0m\u001b[0;34m)\u001b[0m\u001b[0;34m\u001b[0m\u001b[0;34m\u001b[0m\u001b[0m\n\u001b[0m",
      "\u001b[0;32m~/Desktop/PhD_Thesis/AUMic_starspots/chromatic/chromatic/rainbows/rainbow.py\u001b[0m in \u001b[0;36m__init__\u001b[0;34m(self, filepath, format, wavelength, time, flux, uncertainty, wavelike, timelike, fluxlike, metadata, **kw)\u001b[0m\n\u001b[1;32m    146\u001b[0m         \u001b[0;31m# then try to initialize from a file\u001b[0m\u001b[0;34m\u001b[0m\u001b[0;34m\u001b[0m\u001b[0;34m\u001b[0m\u001b[0m\n\u001b[1;32m    147\u001b[0m         \u001b[0;32melif\u001b[0m \u001b[0;34m(\u001b[0m\u001b[0mtype\u001b[0m\u001b[0;34m(\u001b[0m\u001b[0mfilepath\u001b[0m\u001b[0;34m)\u001b[0m \u001b[0;34m==\u001b[0m \u001b[0mstr\u001b[0m\u001b[0;34m)\u001b[0m \u001b[0;32mor\u001b[0m \u001b[0;34m(\u001b[0m\u001b[0mtype\u001b[0m\u001b[0;34m(\u001b[0m\u001b[0mfilepath\u001b[0m\u001b[0;34m)\u001b[0m \u001b[0;34m==\u001b[0m \u001b[0mlist\u001b[0m\u001b[0;34m)\u001b[0m\u001b[0;34m:\u001b[0m\u001b[0;34m\u001b[0m\u001b[0;34m\u001b[0m\u001b[0m\n\u001b[0;32m--> 148\u001b[0;31m             \u001b[0mself\u001b[0m\u001b[0;34m.\u001b[0m\u001b[0m_initialize_from_file\u001b[0m\u001b[0;34m(\u001b[0m\u001b[0mfilepath\u001b[0m\u001b[0;34m=\u001b[0m\u001b[0mfilepath\u001b[0m\u001b[0;34m,\u001b[0m \u001b[0mformat\u001b[0m\u001b[0;34m=\u001b[0m\u001b[0mformat\u001b[0m\u001b[0;34m,\u001b[0m \u001b[0;34m**\u001b[0m\u001b[0mkw\u001b[0m\u001b[0;34m)\u001b[0m\u001b[0;34m\u001b[0m\u001b[0;34m\u001b[0m\u001b[0m\n\u001b[0m\u001b[1;32m    149\u001b[0m \u001b[0;34m\u001b[0m\u001b[0m\n\u001b[1;32m    150\u001b[0m         \u001b[0;31m# finally, tidy up by guessing the wavelength scale\u001b[0m\u001b[0;34m\u001b[0m\u001b[0;34m\u001b[0m\u001b[0;34m\u001b[0m\u001b[0m\n",
      "\u001b[0;32m~/Desktop/PhD_Thesis/AUMic_starspots/chromatic/chromatic/rainbows/rainbow.py\u001b[0m in \u001b[0;36m_initialize_from_file\u001b[0;34m(self, filepath, format, **kw)\u001b[0m\n\u001b[1;32m    333\u001b[0m         \u001b[0;31m# pick the appropriate reader\u001b[0m\u001b[0;34m\u001b[0m\u001b[0;34m\u001b[0m\u001b[0;34m\u001b[0m\u001b[0m\n\u001b[1;32m    334\u001b[0m         \u001b[0mreader\u001b[0m \u001b[0;34m=\u001b[0m \u001b[0mguess_reader\u001b[0m\u001b[0;34m(\u001b[0m\u001b[0mfilepath\u001b[0m\u001b[0;34m=\u001b[0m\u001b[0mfilepath\u001b[0m\u001b[0;34m,\u001b[0m \u001b[0mformat\u001b[0m\u001b[0;34m=\u001b[0m\u001b[0mformat\u001b[0m\u001b[0;34m)\u001b[0m\u001b[0;34m\u001b[0m\u001b[0;34m\u001b[0m\u001b[0m\n\u001b[0;32m--> 335\u001b[0;31m         \u001b[0mreader\u001b[0m\u001b[0;34m(\u001b[0m\u001b[0mself\u001b[0m\u001b[0;34m,\u001b[0m \u001b[0mfilepath\u001b[0m\u001b[0;34m,\u001b[0m \u001b[0;34m**\u001b[0m\u001b[0mkw\u001b[0m\u001b[0;34m)\u001b[0m\u001b[0;34m\u001b[0m\u001b[0;34m\u001b[0m\u001b[0m\n\u001b[0m\u001b[1;32m    336\u001b[0m \u001b[0;34m\u001b[0m\u001b[0m\n\u001b[1;32m    337\u001b[0m         \u001b[0;31m# validate that something reasonable got populated\u001b[0m\u001b[0;34m\u001b[0m\u001b[0;34m\u001b[0m\u001b[0;34m\u001b[0m\u001b[0m\n",
      "\u001b[0;32m~/Desktop/PhD_Thesis/AUMic_starspots/chromatic/chromatic/rainbows/readers/nres.py\u001b[0m in \u001b[0;36mfrom_nres\u001b[0;34m(rainbow, filepath, order)\u001b[0m\n\u001b[1;32m     87\u001b[0m     \u001b[0;31m# populate a 1D array of wavelengths (with astropy units of length)\u001b[0m\u001b[0;34m\u001b[0m\u001b[0;34m\u001b[0m\u001b[0;34m\u001b[0m\u001b[0m\n\u001b[1;32m     88\u001b[0m     rainbow.wavelike[\"wavelength\"] = np.nanmedian(\n\u001b[0;32m---> 89\u001b[0;31m         \u001b[0mrainbow\u001b[0m\u001b[0;34m.\u001b[0m\u001b[0mfluxlike\u001b[0m\u001b[0;34m[\u001b[0m\u001b[0;34m\"wavelength\"\u001b[0m\u001b[0;34m]\u001b[0m\u001b[0;34m,\u001b[0m \u001b[0maxis\u001b[0m\u001b[0;34m=\u001b[0m\u001b[0mrainbow\u001b[0m\u001b[0;34m.\u001b[0m\u001b[0mtimeaxis\u001b[0m\u001b[0;34m\u001b[0m\u001b[0;34m\u001b[0m\u001b[0m\n\u001b[0m\u001b[1;32m     90\u001b[0m     )\n\u001b[1;32m     91\u001b[0m \u001b[0;34m\u001b[0m\u001b[0m\n",
      "\u001b[0;31mKeyError\u001b[0m: 'wavelength'"
     ]
    }
   ],
   "source": [
    "r = Rainbow('~/data/NRES/Spring_2022_Spectra/*e92-1d.fits.fz', format='nres', order=71)"
   ]
  },
  {
   "cell_type": "code",
   "execution_count": null,
   "id": "0b14b272-d61b-4825-bce4-62c050c27166",
   "metadata": {},
   "outputs": [],
   "source": [
    "a = r.align_wavelengths()"
   ]
  },
  {
   "cell_type": "code",
   "execution_count": null,
   "id": "38f53583-0c5f-4dec-b9c2-32f461e4cfbe",
   "metadata": {},
   "outputs": [],
   "source": [
    "a.imshow(vmin=0.5,vmax=10)"
   ]
  }
 ],
 "metadata": {
  "kernelspec": {
   "display_name": "Python 3",
   "language": "python",
   "name": "python3"
  },
  "language_info": {
   "codemirror_mode": {
    "name": "ipython",
    "version": 3
   },
   "file_extension": ".py",
   "mimetype": "text/x-python",
   "name": "python",
   "nbconvert_exporter": "python",
   "pygments_lexer": "ipython3",
   "version": "3.9.6"
  }
 },
 "nbformat": 4,
 "nbformat_minor": 5
}
