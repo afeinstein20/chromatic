{
 "cells": [
  {
   "cell_type": "code",
   "execution_count": null,
   "id": "511531ee-d6fe-4b96-9c11-6f3df1f043d4",
   "metadata": {},
   "outputs": [],
   "source": [
    "from chromatic import *"
   ]
  },
  {
   "cell_type": "markdown",
   "id": "d594b598-ff7b-42d4-8ecd-05895ab5a174",
   "metadata": {},
   "source": [
    "To make it user friendly, we could include a download script that would grab a particular group of files directly from the public LCO archive."
   ]
  },
  {
   "cell_type": "code",
   "execution_count": null,
   "id": "fa9d4828-77cf-426f-a8f3-803028dfe744",
   "metadata": {},
   "outputs": [],
   "source": [
    "home = '/Users/willwaalkes/Desktop/PhD_Thesis/AUMic_starspots'"
   ]
  },
  {
   "cell_type": "markdown",
   "id": "3cd172f1-7503-4df4-aa97-e29edb26cffc",
   "metadata": {},
   "source": [
    "Here is how we read in all the spectra of a specific order from the NRES instrument at LCOGT.\n",
    "\n",
    "LCO NRES spectra span orders XX-XX. Order 71 is the order which contains H$\\alpha$ emission, so let's take a look at that one."
   ]
  },
  {
   "cell_type": "code",
   "execution_count": null,
   "id": "c5e617dd-1ef6-40e8-bc49-e6e6c405eb1f",
   "metadata": {},
   "outputs": [],
   "source": [
    "r = Rainbow(home+'/data/NRES/Spring_2022_Spectra/*e92-1d.fits.fz', format='nres', order=71)"
   ]
  },
  {
   "cell_type": "markdown",
   "id": "eb0c19c3-5c1d-4ad4-9531-963ea02986ef",
   "metadata": {},
   "source": [
    "Let's take a look at the spectra as they were read in, without applying any corrections."
   ]
  },
  {
   "cell_type": "code",
   "execution_count": null,
   "id": "7735f08d-18f5-4daa-8e5b-73df895ca77a",
   "metadata": {},
   "outputs": [],
   "source": [
    "r.imshow(vmax=4)"
   ]
  },
  {
   "cell_type": "markdown",
   "id": "512998ae-5a1b-4a30-a932-ddf5d1ef0757",
   "metadata": {},
   "source": [
    "To ensure we are comparing spectra on the same grid of wavelengths, let's use r.align_wavelengths() to apply a correction. Aligning the wavelengths will also properly identify and label the wavelength arrays."
   ]
  },
  {
   "cell_type": "code",
   "execution_count": null,
   "id": "0b14b272-d61b-4825-bce4-62c050c27166",
   "metadata": {},
   "outputs": [],
   "source": [
    "a = r.align_wavelengths()"
   ]
  },
  {
   "cell_type": "code",
   "execution_count": null,
   "id": "38f53583-0c5f-4dec-b9c2-32f461e4cfbe",
   "metadata": {},
   "outputs": [],
   "source": [
    "a.imshow(vmax=4)"
   ]
  },
  {
   "cell_type": "markdown",
   "id": "38733739-0709-46e0-a158-0129025b4135",
   "metadata": {},
   "source": [
    "Let's pull out the wavelength, flux, error, and data mask from the rainbow so we can interact with individual spectra."
   ]
  },
  {
   "cell_type": "code",
   "execution_count": null,
   "id": "79fa68b8-ea8a-4854-88bf-c01b8432f966",
   "metadata": {},
   "outputs": [],
   "source": [
    "w = a.wavelength\n",
    "f = a.fluxlike['flux'][:,0] #the 0th time point, with date extracted below\n",
    "e = a.fluxlike['uncertainty'][:,0]\n",
    "date = a.timelike['time'][0]\n",
    "\n",
    "plt.plot(w,f)\n",
    "plt.title(f'{date.value} [BJD]')\n",
    "plt.show()"
   ]
  },
  {
   "cell_type": "markdown",
   "id": "c6f0ebe5-1bc2-426a-b8da-a97acc48699d",
   "metadata": {},
   "source": [
    "Looks great! Now how do we extract a time-averaged spectrum?"
   ]
  },
  {
   "cell_type": "code",
   "execution_count": null,
   "id": "e5509128-7875-4fcf-b921-1b2504fb1b72",
   "metadata": {},
   "outputs": [],
   "source": [
    "w = a.wavelength\n",
    "f = a.fluxlike['flux'] #the 0th time point, with date extracted below\n",
    "f_avg = np.median(f,axis=1)\n",
    "\n",
    "plt.plot(w,f_avg)\n",
    "plt.title('Time-averaged spectrum')\n",
    "plt.show()"
   ]
  },
  {
   "cell_type": "markdown",
   "id": "1f12eb4a-73fe-48bb-9e96-9da642a7ee66",
   "metadata": {},
   "source": [
    "Let's fit a model to our time-averaged spectrum!"
   ]
  },
  {
   "cell_type": "code",
   "execution_count": null,
   "id": "e101d01b-9e42-4c4b-ad7c-2365cd30d0b7",
   "metadata": {},
   "outputs": [],
   "source": []
  }
 ],
 "metadata": {
  "kernelspec": {
   "display_name": "Python 3",
   "language": "python",
   "name": "python3"
  },
  "language_info": {
   "codemirror_mode": {
    "name": "ipython",
    "version": 3
   },
   "file_extension": ".py",
   "mimetype": "text/x-python",
   "name": "python",
   "nbconvert_exporter": "python",
   "pygments_lexer": "ipython3",
   "version": "3.9.6"
  }
 },
 "nbformat": 4,
 "nbformat_minor": 5
}
