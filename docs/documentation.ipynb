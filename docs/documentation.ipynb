{
 "cells": [
  {
   "cell_type": "markdown",
   "id": "0c858c15",
   "metadata": {},
   "source": [
    "# Writing 🌈 Documentation\n",
    "\n",
    "If you're contributing a new feature to `chromatic`, please consider also contributing some documentation to explain how your feature works. Here's the very short version of how to add to the documentation:\n",
    "\n",
    "1. Install in development mode (see [Installation](../../installation)), so you have access to `mkdocs` and the various extensions needed to render the documentation.\n",
    "1. Decide whether your explanation would fit well within an existing page or whether you need a new one. In the `docs/` directory, find the appropraite `.ipynb` notebook file or create a new one. If you create a new one, add it to the `nav:` section of the `mkdocs.yml` file in the main repository directory so that `mkdocs` will know to include it.\n",
    "1. Write your example and explanation. Your audience should be smart people who want to use the code but don't have much experience with it yet. Be friendly and encouraging!\n"
   ]
  }
 ],
 "metadata": {
  "kernelspec": {
   "display_name": "Python 3",
   "language": "python",
   "name": "python3"
  },
  "language_info": {
   "codemirror_mode": {
    "name": "ipython",
    "version": 3
   },
   "file_extension": ".py",
   "mimetype": "text/x-python",
   "name": "python",
   "nbconvert_exporter": "python",
   "pygments_lexer": "ipython3",
   "version": "3.9.12"
  }
 },
 "nbformat": 4,
 "nbformat_minor": 5
}
