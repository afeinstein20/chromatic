{
 "cells": [
  {
   "cell_type": "markdown",
   "id": "426ca704-41e5-43fc-8ac7-16683a3941f0",
   "metadata": {},
   "source": [
    "# This notebook is for testing the creation of a rainbow action which will do the following:\n",
    "- Taking starspot parameters (coverage fractions and temperatures) as arguments,\n",
    "- calculate the wavelength dependent contribution to the measured depth of spectral features detected during transmission spectroscopy of an exoplanet atmosphere\n",
    "- plot that model \"starspot contribution\" spectrum ($\\Delta$D$_{spot}$($\\lambda$))\n",
    "- Calculate this for WASP-43b\n",
    "## Other outputs include\n",
    "- the stellar rotational modulation semi-amplitudes (calculated for a given spot coverage and contrast)\n",
    "- the total integrated stellar flux (check that Teff^4 = Tspot^4 + Tunspot^4)"
   ]
  },
  {
   "cell_type": "code",
   "execution_count": 1,
   "id": "c0f4de03-35ca-48c5-9de4-ffe009504ed0",
   "metadata": {},
   "outputs": [
    {
     "ename": "NameError",
     "evalue": "name 'Star' is not defined",
     "output_type": "error",
     "traceback": [
      "\u001b[0;31m---------------------------------------------------------------------------\u001b[0m",
      "\u001b[0;31mNameError\u001b[0m                                 Traceback (most recent call last)",
      "\u001b[0;32m<ipython-input-1-cdf125ac5edb>\u001b[0m in \u001b[0;36m<module>\u001b[0;34m\u001b[0m\n\u001b[1;32m     53\u001b[0m     \u001b[0;32mreturn\u001b[0m \u001b[0mdepth\u001b[0m\u001b[0;34m\u001b[0m\u001b[0;34m\u001b[0m\u001b[0m\n\u001b[1;32m     54\u001b[0m \u001b[0;34m\u001b[0m\u001b[0m\n\u001b[0;32m---> 55\u001b[0;31m \u001b[0mresult\u001b[0m \u001b[0;34m=\u001b[0m \u001b[0mstarspot_contribution\u001b[0m\u001b[0;34m(\u001b[0m\u001b[0mtester\u001b[0m\u001b[0;34m)\u001b[0m\u001b[0;34m\u001b[0m\u001b[0;34m\u001b[0m\u001b[0m\n\u001b[0m\u001b[1;32m     56\u001b[0m \u001b[0;34m\u001b[0m\u001b[0m\n\u001b[1;32m     57\u001b[0m \u001b[0mprint\u001b[0m\u001b[0;34m(\u001b[0m\u001b[0mtester\u001b[0m\u001b[0;34m)\u001b[0m\u001b[0;34m\u001b[0m\u001b[0;34m\u001b[0m\u001b[0m\n",
      "\u001b[0;32m<ipython-input-1-cdf125ac5edb>\u001b[0m in \u001b[0;36mstarspot_contribution\u001b[0;34m(self, T_spot, T_unspot, f_spot, f_tra, r_sun, m_sun, transit_depth)\u001b[0m\n\u001b[1;32m     35\u001b[0m     \u001b[0mnew\u001b[0m \u001b[0;34m=\u001b[0m \u001b[0mself\u001b[0m\u001b[0;34m.\u001b[0m\u001b[0m_create_copy\u001b[0m\u001b[0;34m(\u001b[0m\u001b[0;34m)\u001b[0m\u001b[0;34m\u001b[0m\u001b[0;34m\u001b[0m\u001b[0m\n\u001b[1;32m     36\u001b[0m \u001b[0;34m\u001b[0m\u001b[0m\n\u001b[0;32m---> 37\u001b[0;31m     \u001b[0mS_spot\u001b[0m \u001b[0;34m=\u001b[0m \u001b[0mStar\u001b[0m\u001b[0;34m(\u001b[0m\u001b[0mteff\u001b[0m\u001b[0;34m=\u001b[0m\u001b[0mT_spot\u001b[0m\u001b[0;34m,\u001b[0m \u001b[0mradius\u001b[0m\u001b[0;34m=\u001b[0m\u001b[0mr_sun\u001b[0m\u001b[0;34m,\u001b[0m\u001b[0mmass\u001b[0m\u001b[0;34m=\u001b[0m\u001b[0mm_sun\u001b[0m\u001b[0;34m,\u001b[0m\u001b[0mR\u001b[0m\u001b[0;34m=\u001b[0m\u001b[0;36m1e4\u001b[0m\u001b[0;34m)\u001b[0m\u001b[0;34m\u001b[0m\u001b[0;34m\u001b[0m\u001b[0m\n\u001b[0m\u001b[1;32m     38\u001b[0m     \u001b[0mS_unspot\u001b[0m \u001b[0;34m=\u001b[0m \u001b[0mStar\u001b[0m\u001b[0;34m(\u001b[0m\u001b[0mteff\u001b[0m\u001b[0;34m=\u001b[0m\u001b[0mT_unspot\u001b[0m\u001b[0;34m,\u001b[0m \u001b[0mradius\u001b[0m\u001b[0;34m=\u001b[0m\u001b[0mr_sun\u001b[0m\u001b[0;34m,\u001b[0m\u001b[0mmass\u001b[0m\u001b[0;34m=\u001b[0m\u001b[0mm_sun\u001b[0m\u001b[0;34m,\u001b[0m\u001b[0mR\u001b[0m\u001b[0;34m=\u001b[0m\u001b[0;36m1e4\u001b[0m\u001b[0;34m)\u001b[0m\u001b[0;34m\u001b[0m\u001b[0;34m\u001b[0m\u001b[0m\n\u001b[1;32m     39\u001b[0m \u001b[0;34m\u001b[0m\u001b[0m\n",
      "\u001b[0;31mNameError\u001b[0m: name 'Star' is not defined"
     ]
    }
   ],
   "source": [
    "from chromatic import *\n",
    "\n",
    "# create an example object to test on \n",
    "tester = SimulatedRainbow()\n",
    "\n",
    "# define your new method - calculate delta D_spot (lambda)\n",
    "def starspot_contribution(self,\n",
    "                          T_spot = 4000 *u.K,\n",
    "                          T_unspot = 3500*u.K,\n",
    "                          f_spot = 0.1,\n",
    "                          f_tra = 0.,\n",
    "                          r_sun = 0.5 * u.Rsun,\n",
    "                          m_sun = 0.5 * u.Msun,\n",
    "                          transit_depth = 0.06):\n",
    "    \"\"\"\n",
    "    Calculate delta D(lambda), the contribution of \n",
    "    starspot features to the wavelength dependent transit depth\n",
    "\n",
    "    Parameters\n",
    "    ----------\n",
    "    T1\n",
    "        the photosphere temperature, in K\n",
    "    T2\n",
    "        the spot temperature, in K\n",
    "    f_spot\n",
    "        the global spot coverage fraction\n",
    "    f_tra\n",
    "        the transit chord spot coverage fraction\n",
    "    r_sun\n",
    "        the stellar radius, in solar radii\n",
    "    m_sun\n",
    "        the stellar mass, in solar masses\n",
    "    \"\"\"\n",
    "    \n",
    "    new = self._create_copy()\n",
    "    \n",
    "    S_spot = Star(teff=T_spot, radius=r_sun,mass=m_sun,R=1e4)\n",
    "    S_unspot = Star(teff=T_unspot, radius=r_sun,mass=m_sun,R=1e4)\n",
    "    \n",
    "    s_spot = S_spot.spectrum(new.wavelength)/np.median(S_spot.spectrum(new.wavelength))\n",
    "    s_unspot = S_unspot.spectrum(new.wavelength)/np.median(S_unspot.spectrum(new.wavelength))\n",
    "    \n",
    "    flux_ratio = s_spot/s_unspot\n",
    "    \n",
    "    top = (1. - f_tra) + f_tra * flux_ratio\n",
    "    \n",
    "    bottom = (1. - f_spot) + f_spot * flux_ratio\n",
    "    \n",
    "    delta_D_lam = (top / bottom) - 1\n",
    "    \n",
    "    depth = transit_depth * delta_D_lam\n",
    "    \n",
    "    return depth\n",
    "\n",
    "result = starspot_contribution(tester)\n",
    "\n",
    "print(tester)\n",
    "print(result)\n",
    "plt.plot(tester.wavelength, result)\n",
    "#print(tester.wavelength)\n",
    "#print(result.wavelength)\n",
    "#print(result.wavelength/tester.wavelength)"
   ]
  },
  {
   "cell_type": "code",
   "execution_count": null,
   "id": "929c9d64-5ac9-4362-8acb-7b3cac0503af",
   "metadata": {},
   "outputs": [],
   "source": []
  }
 ],
 "metadata": {
  "kernelspec": {
   "display_name": "Python 3",
   "language": "python",
   "name": "python3"
  },
  "language_info": {
   "codemirror_mode": {
    "name": "ipython",
    "version": 3
   },
   "file_extension": ".py",
   "mimetype": "text/x-python",
   "name": "python",
   "nbconvert_exporter": "python",
   "pygments_lexer": "ipython3",
   "version": "3.9.6"
  }
 },
 "nbformat": 4,
 "nbformat_minor": 5
}
