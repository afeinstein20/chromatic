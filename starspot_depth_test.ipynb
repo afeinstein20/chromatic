{
 "cells": [
  {
   "cell_type": "markdown",
   "id": "426ca704-41e5-43fc-8ac7-16683a3941f0",
   "metadata": {},
   "source": [
    "# This notebook is for testing the creation of a rainbow action which will do the following:\n",
    "- Taking starspot parameters (coverage fractions and temperatures) as arguments,\n",
    "- calculate the wavelength dependent contribution to the measured depth of spectral features detected during transmission spectroscopy of an exoplanet atmosphere\n",
    "- plot that model \"starspot contribution\" spectrum ($\\Delta$D$_{spot}$($\\lambda$))\n",
    "- Calculate this for WASP-43b\n",
    "## Other outputs include\n",
    "- the stellar rotational modulation semi-amplitudes (calculated for a given spot coverage and contrast)\n",
    "- the total integrated stellar flux (check that Teff^4 = Tspot^4 + Tunspot^4)"
   ]
  },
  {
   "cell_type": "code",
   "execution_count": 9,
   "id": "c0f4de03-35ca-48c5-9de4-ffe009504ed0",
   "metadata": {},
   "outputs": [
    {
     "name": "stdout",
     "output_type": "stream",
     "text": [
      "<Simulated🌈(231w, 150t)>\n",
      "[ -4.20440795e-03  -3.42120131e-03  -2.23248412e-03  -1.87505821e-03\n",
      "  -3.21518853e-03  -2.93555898e-03  -2.59039409e-03  -2.44958987e-03\n",
      "  -1.98613463e-03  -3.62455889e-03  -3.56548617e-03  -2.98359408e-03\n",
      "  -4.27155964e-03  -3.59100817e-03  -2.99526938e-03  -2.77319894e-03\n",
      "  -3.93428159e-03  -5.31644380e-03  -4.28802628e-03  -2.83836326e-03\n",
      "  -1.96608111e-03  -3.10903158e-03  -4.99092986e-03  -3.74399292e-03\n",
      "  -3.05877865e-03  -2.56938370e-03  -1.89348637e-03  -1.63013679e-03\n",
      "  -1.82226155e-03  -3.02309221e-03  -3.89995650e-03  -3.47544604e-03\n",
      "  -2.77980710e-03  -1.61606263e-03  -7.19112562e-04  -2.00772114e-03\n",
      "  -2.67481225e-03  -1.48049116e-03  -2.80117388e-04   3.91767496e-04\n",
      "   5.94087753e-04   6.99804224e-04   3.50591428e-04  -3.26528924e-04\n",
      "  -2.91235638e-04  -2.75996236e-05   3.53139262e-04   6.40326187e-04\n",
      "   8.88149246e-04   9.92016246e-04   9.54980965e-04   9.13882614e-04\n",
      "   8.47247344e-04   4.65025135e-04   7.75281969e-04   1.02322798e-03\n",
      "   1.14025623e-03   1.12805498e-03   9.54007261e-04   1.13485955e-03\n",
      "   1.27397994e-03   1.34430725e-03   1.26854235e-03   1.29371378e-03\n",
      "   1.35900439e-03   1.42529052e-03   1.46970360e-03   1.45338213e-03\n",
      "   1.45211567e-03   1.45441365e-03   1.48831175e-03   1.52333738e-03\n",
      "   1.52690899e-03   1.56020135e-03   1.59046383e-03   1.63355258e-03\n",
      "   1.63756940e-03   1.68462585e-03   1.69509383e-03   1.70110540e-03\n",
      "   1.68424140e-03   1.71390886e-03   1.70663111e-03   1.73053801e-03\n",
      "   1.74400922e-03   1.74838947e-03   1.76554836e-03   1.77230393e-03\n",
      "   1.78676149e-03   1.76793599e-03   1.78054393e-03   1.77118277e-03\n",
      "   1.77297893e-03   1.77714969e-03   1.78098236e-03   1.78688220e-03\n",
      "   1.78542679e-03   1.79347863e-03   1.70713687e-03   1.62233359e-03\n",
      "   1.62425240e-03   1.63630506e-03   1.59468451e-03   1.54529906e-03\n",
      "   1.51931495e-03   1.52313711e-03   1.50256836e-03   1.48618882e-03\n",
      "   1.45184348e-03   1.47167207e-03   1.53301496e-03   1.44387587e-03\n",
      "   1.40738852e-03   1.36075382e-03   1.42460766e-03   1.50196925e-03\n",
      "   1.50674987e-03   1.46003058e-03   1.43473772e-03   1.51983876e-03\n",
      "   1.55543535e-03   1.58772602e-03   1.59580199e-03   1.57393061e-03\n",
      "   1.53442608e-03   1.51184150e-03   1.45713745e-03   1.39342806e-03\n",
      "   1.35015017e-03   1.34344503e-03   1.36155727e-03   1.24222727e-03\n",
      "   1.31443123e-03   1.40913157e-03   1.42086248e-03   1.45320370e-03\n",
      "   1.45297449e-03   1.50624029e-03   1.46076921e-03   1.48235100e-03\n",
      "   1.51841300e-03   1.53178411e-03   1.59862277e-03   1.61478607e-03\n",
      "   1.66934193e-03   1.71610373e-03   1.77771384e-03   1.84618836e-03\n",
      "   1.89372796e-03   1.93081560e-03   1.98625986e-03   2.01455797e-03\n",
      "   2.06191257e-03   2.04423956e-03   2.04680571e-03   2.04963882e-03\n",
      "   2.05515237e-03   1.94743964e-03   1.89587605e-03   1.81938767e-03\n",
      "   1.75319472e-03   1.58822533e-03              nan              nan\n",
      "              nan              nan              nan              nan\n",
      "              nan              nan              nan              nan\n",
      "              nan              nan              nan              nan\n",
      "              nan              nan              nan              nan\n",
      "              nan              nan              nan              nan\n",
      "              nan              nan              nan              nan\n",
      "              nan              nan              nan              nan\n",
      "              nan              nan              nan              nan\n",
      "              nan              nan              nan              nan\n",
      "              nan              nan              nan              nan\n",
      "              nan              nan              nan              nan\n",
      "              nan              nan              nan              nan\n",
      "              nan              nan              nan              nan\n",
      "              nan              nan              nan              nan\n",
      "              nan              nan              nan              nan\n",
      "              nan              nan              nan              nan\n",
      "              nan              nan              nan]\n"
     ]
    }
   ],
   "source": [
    "from chromatic import *\n",
    "from rainbowconnection.sources.phoenix import *\n",
    "\n",
    "# create an example object to test on \n",
    "tester = SimulatedRainbow()\n",
    "\n",
    "# define your new method - calculate delta D_spot (lambda)\n",
    "def starspot_contribution(self,\n",
    "                          T_spot = 4000 *u.K,\n",
    "                          T_unspot = 3500*u.K,\n",
    "                          f_spot = 0.1,\n",
    "                          f_tra = 0.,\n",
    "                          r_sun = 0.5 * u.Rsun,\n",
    "                          m_sun = 0.5 * u.Msun,\n",
    "                          transit_depth = 0.06):\n",
    "    \"\"\"\n",
    "    Calculate delta D(lambda), the contribution of \n",
    "    starspot features to the wavelength dependent transit depth\n",
    "\n",
    "    Parameters\n",
    "    ----------\n",
    "    T1\n",
    "        the photosphere temperature, in K\n",
    "    T2\n",
    "        the spot temperature, in K\n",
    "    f_spot\n",
    "        the global spot coverage fraction\n",
    "    f_tra\n",
    "        the transit chord spot coverage fraction\n",
    "    r_sun\n",
    "        the stellar radius, in solar radii\n",
    "    m_sun\n",
    "        the stellar mass, in solar masses\n",
    "    \"\"\"\n",
    "    \n",
    "    new = self._create_copy()\n",
    "    \n",
    "    S_spot = Star(teff=T_spot, radius=r_sun,mass=m_sun,R=1e5)\n",
    "    S_unspot = Star(teff=T_unspot, radius=r_sun,mass=m_sun,R=1e5)\n",
    "    \n",
    "    s_spot = S_spot.spectrum(new.wavelength)/np.nanmedian(S_spot.spectrum(new.wavelength))\n",
    "    s_unspot = S_unspot.spectrum(new.wavelength)/np.nanmedian(S_unspot.spectrum(new.wavelength))\n",
    "    \n",
    "    flux_ratio = s_spot/s_unspot\n",
    "    \n",
    "    top = (1. - f_tra) + f_tra * flux_ratio\n",
    "    \n",
    "    bottom = (1. - f_spot) + f_spot * flux_ratio\n",
    "    \n",
    "    delta_D_lam = (top / bottom) - 1\n",
    "    \n",
    "    depth = transit_depth * delta_D_lam\n",
    "    \n",
    "    return new, depth\n",
    "\n",
    "tester, result = starspot_contribution(tester)\n",
    "\n",
    "print(tester)\n",
    "print(result)"
   ]
  },
  {
   "cell_type": "code",
   "execution_count": 10,
   "id": "e445ec99-1b78-42cf-9d5c-aeaa36d828da",
   "metadata": {},
   "outputs": [
    {
     "data": {
      "image/png": "[encoded data removed]",
      "text/plain": [
       "<Figure size 432x288 with 1 Axes>"
      ]
     },
     "metadata": {
      "needs_background": "light"
     },
     "output_type": "display_data"
    }
   ],
   "source": [
    "plt.plot(tester.wavelength, result)\n",
    "plt.xlabel('wavelength')\n",
    "plt.ylabel(r'$\\Delta\\rm{D}_{\\lambda}$')\n",
    "plt.show()"
   ]
  },
  {
   "cell_type": "code",
   "execution_count": null,
   "id": "929c9d64-5ac9-4362-8acb-7b3cac0503af",
   "metadata": {},
   "outputs": [],
   "source": []
  }
 ],
 "metadata": {
  "kernelspec": {
   "display_name": "Python 3",
   "language": "python",
   "name": "python3"
  },
  "language_info": {
   "codemirror_mode": {
    "name": "ipython",
    "version": 3
   },
   "file_extension": ".py",
   "mimetype": "text/x-python",
   "name": "python",
   "nbconvert_exporter": "python",
   "pygments_lexer": "ipython3",
   "version": "3.9.6"
  }
 },
 "nbformat": 4,
 "nbformat_minor": 5
}
