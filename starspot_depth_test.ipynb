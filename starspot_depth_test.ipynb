{
 "cells": [
  {
   "cell_type": "markdown",
   "id": "426ca704-41e5-43fc-8ac7-16683a3941f0",
   "metadata": {},
   "source": [
    "# This notebook is for testing the creation of a rainbow action which will do the following:\n",
    "- Taking starspot parameters (coverage fractions and temperatures) as arguments,\n",
    "- calculate the wavelength dependent contribution to the measured depth of spectral features detected during transmission spectroscopy of an exoplanet atmosphere\n",
    "- plot that model \"starspot contribution\" spectrum ($\\Delta$D$_{spot}$($\\lambda$))\n",
    "- Calculate this for WASP-39b\n",
    "## Other outputs include\n",
    "- the stellar rotational modulation semi-amplitudes (calculated for a given spot coverage and contrast)\n",
    "- the total integrated stellar flux (check that Teff^4 = Tspot^4 + Tunspot^4)"
   ]
  },
  {
   "cell_type": "code",
   "execution_count": 17,
   "id": "c0f4de03-35ca-48c5-9de4-ffe009504ed0",
   "metadata": {},
   "outputs": [
    {
     "ename": "AttributeError",
     "evalue": "'numpy.ndarray' object has no attribute 'spectrum'",
     "output_type": "error",
     "traceback": [
      "\u001b[0;31m---------------------------------------------------------------------------\u001b[0m",
      "\u001b[0;31mAttributeError\u001b[0m                            Traceback (most recent call last)",
      "\u001b[0;32m<ipython-input-17-7fa742cb0d52>\u001b[0m in \u001b[0;36m<module>\u001b[0;34m\u001b[0m\n\u001b[1;32m     56\u001b[0m     \u001b[0;32mreturn\u001b[0m \u001b[0mnew\u001b[0m\u001b[0;34m,\u001b[0m \u001b[0mdepth\u001b[0m\u001b[0;34m\u001b[0m\u001b[0;34m\u001b[0m\u001b[0m\n\u001b[1;32m     57\u001b[0m \u001b[0;34m\u001b[0m\u001b[0m\n\u001b[0;32m---> 58\u001b[0;31m \u001b[0mtester\u001b[0m\u001b[0;34m,\u001b[0m \u001b[0mresult\u001b[0m \u001b[0;34m=\u001b[0m \u001b[0mstarspot_contribution\u001b[0m\u001b[0;34m(\u001b[0m\u001b[0mtester\u001b[0m\u001b[0;34m)\u001b[0m\u001b[0;34m\u001b[0m\u001b[0;34m\u001b[0m\u001b[0m\n\u001b[0m\u001b[1;32m     59\u001b[0m \u001b[0;34m\u001b[0m\u001b[0m\n\u001b[1;32m     60\u001b[0m \u001b[0mprint\u001b[0m\u001b[0;34m(\u001b[0m\u001b[0mtester\u001b[0m\u001b[0;34m)\u001b[0m\u001b[0;34m\u001b[0m\u001b[0;34m\u001b[0m\u001b[0m\n",
      "\u001b[0;32m<ipython-input-17-7fa742cb0d52>\u001b[0m in \u001b[0;36mstarspot_contribution\u001b[0;34m(self, T_spot, T_unspot, f_spot, f_tra, r_sun, m_sun, transit_depth)\u001b[0m\n\u001b[1;32m     41\u001b[0m     \u001b[0;31m#S_unspot = Star(teff=T_unspot, radius=r_sun,mass=m_sun,R=1e5,extend_wavelengths=True)\u001b[0m\u001b[0;34m\u001b[0m\u001b[0;34m\u001b[0m\u001b[0;34m\u001b[0m\u001b[0m\n\u001b[1;32m     42\u001b[0m \u001b[0;34m\u001b[0m\u001b[0m\n\u001b[0;32m---> 43\u001b[0;31m     \u001b[0ms_spot\u001b[0m \u001b[0;34m=\u001b[0m \u001b[0mS_spot\u001b[0m\u001b[0;34m.\u001b[0m\u001b[0mspectrum\u001b[0m\u001b[0;34m(\u001b[0m\u001b[0mnew\u001b[0m\u001b[0;34m.\u001b[0m\u001b[0mwavelength\u001b[0m\u001b[0;34m)\u001b[0m\u001b[0;34m/\u001b[0m\u001b[0mnp\u001b[0m\u001b[0;34m.\u001b[0m\u001b[0mnanmedian\u001b[0m\u001b[0;34m(\u001b[0m\u001b[0mS_spot\u001b[0m\u001b[0;34m.\u001b[0m\u001b[0mspectrum\u001b[0m\u001b[0;34m(\u001b[0m\u001b[0mnew\u001b[0m\u001b[0;34m.\u001b[0m\u001b[0mwavelength\u001b[0m\u001b[0;34m)\u001b[0m\u001b[0;34m)\u001b[0m\u001b[0;34m\u001b[0m\u001b[0;34m\u001b[0m\u001b[0m\n\u001b[0m\u001b[1;32m     44\u001b[0m     \u001b[0ms_unspot\u001b[0m \u001b[0;34m=\u001b[0m \u001b[0mS_unspot\u001b[0m\u001b[0;34m.\u001b[0m\u001b[0mspectrum\u001b[0m\u001b[0;34m(\u001b[0m\u001b[0mnew\u001b[0m\u001b[0;34m.\u001b[0m\u001b[0mwavelength\u001b[0m\u001b[0;34m)\u001b[0m\u001b[0;34m/\u001b[0m\u001b[0mnp\u001b[0m\u001b[0;34m.\u001b[0m\u001b[0mnanmedian\u001b[0m\u001b[0;34m(\u001b[0m\u001b[0mS_unspot\u001b[0m\u001b[0;34m.\u001b[0m\u001b[0mspectrum\u001b[0m\u001b[0;34m(\u001b[0m\u001b[0mnew\u001b[0m\u001b[0;34m.\u001b[0m\u001b[0mwavelength\u001b[0m\u001b[0;34m)\u001b[0m\u001b[0;34m)\u001b[0m\u001b[0;34m\u001b[0m\u001b[0;34m\u001b[0m\u001b[0m\n\u001b[1;32m     45\u001b[0m \u001b[0;34m\u001b[0m\u001b[0m\n",
      "\u001b[0;31mAttributeError\u001b[0m: 'numpy.ndarray' object has no attribute 'spectrum'"
     ]
    }
   ],
   "source": [
    "from chromatic import *\n",
    "from rainbowconnection.sources.phoenix import *\n",
    "\n",
    "# create an example object to test on \n",
    "tester = SimulatedRainbow()\n",
    "\n",
    "# define your new method - calculate delta D_spot (lambda)\n",
    "def starspot_contribution(wavelength,\n",
    "                          T_spot = 4000 *u.K,\n",
    "                          T_unspot = 4500*u.K,\n",
    "                          f_spot = 0.1,\n",
    "                          f_tra = 0.,\n",
    "                          r_sun = 0.5 * u.Rsun,\n",
    "                          m_sun = 0.5 * u.Msun,\n",
    "                          transit_depth = 0.06):\n",
    "    \"\"\"\n",
    "    Calculate delta D(lambda), the contribution of \n",
    "    starspot features to the wavelength dependent transit depth\n",
    "\n",
    "    Parameters\n",
    "    ----------\n",
    "    T1\n",
    "        the photosphere temperature, in K\n",
    "    T2\n",
    "        the spot temperature, in K\n",
    "    f_spot\n",
    "        the global spot coverage fraction\n",
    "    f_tra\n",
    "        the transit chord spot coverage fraction\n",
    "    r_sun\n",
    "        the stellar radius, in solar radii\n",
    "    m_sun\n",
    "        the stellar mass, in solar masses\n",
    "    \"\"\"\n",
    "        \n",
    "    S_spot = Star(teff=T_spot, radius=r_sun,mass=m_sun,R=1e5,extend_wavelengths=True)\n",
    "    #w,S_spot = read_phoenix(extend_wavelengths=True)\n",
    "    #w,S_unspot = read_phoenix(extend_wavelengths=True)\n",
    "    S_unspot = Star(teff=T_unspot, radius=r_sun,mass=m_sun,R=1e5,extend_wavelengths=True)\n",
    "    \n",
    "    s_spot = S_spot.spectrum(wavelength)/np.nanmedian(S_spot.spectrum(wavelength))\n",
    "    s_unspot = S_unspot.spectrum(wavelength)/np.nanmedian(S_unspot.spectrum(wavelength))\n",
    "    \n",
    "    flux_ratio = s_spot/s_unspot\n",
    "    \n",
    "    top = (1. - f_tra) + f_tra * flux_ratio\n",
    "    \n",
    "    bottom = (1. - f_spot) + f_spot * flux_ratio\n",
    "    \n",
    "    delta_D_lam = (top / bottom) - 1\n",
    "    \n",
    "    depth = transit_depth * delta_D_lam\n",
    "    \n",
    "    return depth\n",
    "\n",
    "tester, result = starspot_contribution(tester)\n",
    "\n",
    "print(tester)\n",
    "print(result)"
   ]
  },
  {
   "cell_type": "code",
   "execution_count": 15,
   "id": "e445ec99-1b78-42cf-9d5c-aeaa36d828da",
   "metadata": {},
   "outputs": [
    {
     "data": {
      "image/png": "[encoded data removed]",
      "text/plain": [
       "<Figure size 432x288 with 1 Axes>"
      ]
     },
     "metadata": {
      "needs_background": "light"
     },
     "output_type": "display_data"
    }
   ],
   "source": [
    "plt.plot(tester.wavelength, result)\n",
    "plt.xlabel('wavelength')\n",
    "plt.ylabel(r'$\\Delta\\rm{D}_{\\lambda}$')\n",
    "plt.show()"
   ]
  },
  {
   "cell_type": "code",
   "execution_count": null,
   "id": "929c9d64-5ac9-4362-8acb-7b3cac0503af",
   "metadata": {},
   "outputs": [],
   "source": []
  }
 ],
 "metadata": {
  "kernelspec": {
   "display_name": "Python 3",
   "language": "python",
   "name": "python3"
  },
  "language_info": {
   "codemirror_mode": {
    "name": "ipython",
    "version": 3
   },
   "file_extension": ".py",
   "mimetype": "text/x-python",
   "name": "python",
   "nbconvert_exporter": "python",
   "pygments_lexer": "ipython3",
   "version": "3.9.6"
  }
 },
 "nbformat": 4,
 "nbformat_minor": 5
}
